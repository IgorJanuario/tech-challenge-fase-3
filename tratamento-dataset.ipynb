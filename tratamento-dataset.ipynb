{
 "cells": [
  {
   "cell_type": "code",
   "execution_count": null,
   "id": "59353195fef95050",
   "metadata": {},
   "outputs": [],
   "source": [
    "caminho = f\"/content/drive/MyDrive/Dados de treino/trn.json\""
   ]
  },
  {
   "cell_type": "code",
   "execution_count": null,
   "id": "3c1647d4",
   "metadata": {},
   "outputs": [],
   "source": [
    "import pandas as pd\n",
    "\n",
    "\n",
    "df = pd.read_json(caminho, lines=True)\n",
    "df_filtrado = df[['title', 'content']]\n",
    "\n",
    "df_filtrado['title'] = df_filtrado['title'].str.strip()\n",
    "df_filtrado['content'] = df_filtrado['content'].str.strip()\n",
    "\n",
    "print(f\"Linhas total do dataframe: {len(df)}\")\n",
    "\n",
    "df_filtrado['len_content'] = df_filtrado['content'].str.len()\n",
    "df_filtrado['len_title'] = df_filtrado['title'].str.len()"
   ]
  },
  {
   "cell_type": "code",
   "execution_count": null,
   "id": "9a55dd07",
   "metadata": {},
   "outputs": [],
   "source": [
    "df_filtrado\n",
    "\n",
    "df_where = df_filtrado[(df_filtrado['len_content'] > 0) & (df_filtrado['len_title'] > 0)]\n",
    "print(f\"Linhas total do dataframe filtrado: {len(df_where)}\")"
   ]
  },
  {
   "cell_type": "code",
   "execution_count": null,
   "id": "b2421a82",
   "metadata": {},
   "outputs": [],
   "source": [
    "import nltk\n",
    "import re\n",
    "from nltk.corpus import stopwords\n",
    "from nltk.tokenize import word_tokenize\n",
    "\n",
    "# Baixar stopwords em português\n",
    "print(\"Downloading stopwords...\")\n",
    "nltk.download('stopwords')\n",
    "print(\"Downloading punkt...\")\n",
    "nltk.download('punkt')\n",
    "print(\"Downloading punkt_tab...\")\n",
    "nltk.download('punkt_tab')\n",
    "\n",
    "def limpar_texto(texto):\n",
    "    # Remove HTML tags\n",
    "    texto_sem_html = re.sub(r'<[^>]+>', '', texto)\n",
    "    \n",
    "    # Remove caracteres especiais e mantém apenas letras, números e espaços\n",
    "    texto_limpo = re.sub(r'[^a-zA-Z0-9\\s]', ' ', texto_sem_html)\n",
    "    return texto_limpo\n",
    "\n",
    "def remover_stopwords(texto):\n",
    "    # Primeiro limpa o texto\n",
    "    texto = limpar_texto(texto)\n",
    "    \n",
    "    # Obtém stopwords em português\n",
    "    stop_words = set(stopwords.words('english'))\n",
    "\n",
    "    # Tokeniza o texto\n",
    "    palavras = word_tokenize(texto.lower())\n",
    "\n",
    "    # Remove stopwords\n",
    "    texto_sem_stopwords = [palavra for palavra in palavras if palavra not in stop_words]\n",
    "\n",
    "    # Junta as palavras novamente\n",
    "    return ' '.join(texto_sem_stopwords)\n",
    "\n",
    "df_where['titulo'] = df_where['title'].apply(remover_stopwords)\n",
    "df_where['conteudo'] = df_where['content'].apply(remover_stopwords)"
   ]
  },
  {
   "cell_type": "code",
   "execution_count": null,
   "id": "849a02ba",
   "metadata": {},
   "outputs": [],
   "source": [
    "df_where"
   ]
  },
  {
   "cell_type": "code",
   "execution_count": null,
   "id": "e361b234",
   "metadata": {},
   "outputs": [],
   "source": [
    "df_colunas = df_where[['titulo', 'conteudo']]\n",
    "df_colunas"
   ]
  },
  {
   "cell_type": "code",
   "execution_count": null,
   "id": "2dfe3943",
   "metadata": {},
   "outputs": [],
   "source": [
    "df_colunas.to_json('/content/drive/MyDrive/Dados de treino/Tratado/meu_dataframe.json', orient='records', index=False)"
   ]
  }
 ],
 "metadata": {
  "language_info": {
   "name": "python"
  }
 },
 "nbformat": 4,
 "nbformat_minor": 5
}
